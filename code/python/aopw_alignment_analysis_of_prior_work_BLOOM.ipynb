{
  "nbformat": 4,
  "nbformat_minor": 0,
  "metadata": {
    "colab": {
      "provenance": []
    },
    "kernelspec": {
      "name": "python3",
      "display_name": "Python 3"
    },
    "language_info": {
      "name": "python"
    }
  },
  "cells": [
    {
      "cell_type": "markdown",
      "source": [
        "## Setup"
      ],
      "metadata": {
        "id": "yl6KOUFegQof"
      }
    },
    {
      "cell_type": "code",
      "execution_count": 1,
      "metadata": {
        "id": "yTk5pbJhnIL5"
      },
      "outputs": [],
      "source": [
        "import pandas as pd \n",
        "import numpy as np"
      ]
    },
    {
      "cell_type": "markdown",
      "source": [
        "## Analysis by Study"
      ],
      "metadata": {
        "id": "JeJHtEzBgUrC"
      }
    },
    {
      "cell_type": "code",
      "source": [
        "def extract_acc(df, cond, key):\n",
        "  '''\n",
        "  Parameters\n",
        "  ----------\n",
        "  df: answer dataframe or sub-dataframe\n",
        "  cond: condition name, like \"bee_telo_changed\"\n",
        "  key: expected answer key word, like \"bee\", \"spider\", or \"yes\"\n",
        "\n",
        "  Returns\n",
        "  ----------\n",
        "  accuracy aggregated over all binary data points\n",
        "  '''\n",
        "  acc = []\n",
        "  acc_list = []\n",
        "  mae = []\n",
        "\n",
        "  cond_subset = df[df[\"condition\"] == cond].reset_index()\n",
        "  for i in range(len(cond_subset)):\n",
        "    if cond_subset['categorization_rating'][i] == key:\n",
        "      acc.append(1)\n",
        "    else:\n",
        "      acc.append(0)\n",
        "\n",
        "  return mean(acc)\n",
        "\n",
        "def mean(arr):\n",
        "  '''\n",
        "  Manual mean function\n",
        "  '''\n",
        "  return sum(arr) / len(arr)"
      ],
      "metadata": {
        "id": "EqPUXs8xggUW"
      },
      "execution_count": 2,
      "outputs": []
    },
    {
      "cell_type": "markdown",
      "source": [
        "### Rose and Nichols, 2019 study 1"
      ],
      "metadata": {
        "id": "f84pL591gYXj"
      }
    },
    {
      "cell_type": "code",
      "source": [
        "a = pd.read_csv(\"bloom_rose_nichols_2019_study1_answer_retrieved_curie.csv\")\n",
        "condition1 = ['bee_telo_changed','spider']\n",
        "condition2 = ['bee_telo_preserved', 'bee']\n",
        "\n",
        "acc = []\n",
        "for cond1, cond2 in condition1, condition2:\n",
        "  acc.append(extract_acc(a, cond1, cond2))\n",
        "\n",
        "print(acc)\n",
        "print(mean(acc))"
      ],
      "metadata": {
        "colab": {
          "base_uri": "https://localhost:8080/"
        },
        "id": "xsiK10BuRb9Q",
        "outputId": "87848ebb-f5ea-4c08-8590-4271ce5c93f6"
      },
      "execution_count": 5,
      "outputs": [
        {
          "output_type": "stream",
          "name": "stdout",
          "text": [
            "[0.38, 0.48]\n",
            "0.43\n"
          ]
        }
      ]
    },
    {
      "cell_type": "markdown",
      "source": [
        "### Rose and Nichols, 2019 study 2"
      ],
      "metadata": {
        "id": "qZkAFo5Sppw6"
      }
    },
    {
      "cell_type": "code",
      "source": [
        "a = pd.read_csv(\"bloom_rose_nichols_2019_study2_answer_retrieved_curie.csv\")\n",
        "condition1 = ['bee_telo_changed','spider']\n",
        "condition2 = ['bee_telo_preserved', 'bee']\n",
        "\n",
        "acc = []\n",
        "for cond1, cond2 in condition1, condition2:\n",
        "  acc.append(extract_acc(a, cond1, cond2))\n",
        "\n",
        "print(acc)\n",
        "print(mean(acc))"
      ],
      "metadata": {
        "colab": {
          "base_uri": "https://localhost:8080/"
        },
        "id": "2iFoogJcpq1k",
        "outputId": "0fe2bbe6-49f7-4d4e-bf36-66d1304cb797"
      },
      "execution_count": 7,
      "outputs": [
        {
          "output_type": "stream",
          "name": "stdout",
          "text": [
            "[0.5, 0.54]\n",
            "0.52\n"
          ]
        }
      ]
    },
    {
      "cell_type": "markdown",
      "source": [
        "### Rose and Nichols, 2019 study 3\n"
      ],
      "metadata": {
        "id": "IC-QHxQLqEtY"
      }
    },
    {
      "cell_type": "code",
      "source": [
        "a = pd.read_csv(\"bloom_rose_nichols_2019_study3_answer_retrieved_curie.csv\")\n",
        "condition1 = ['bee_telo_changed','spider']\n",
        "condition2 = ['bee_telo_preserved', 'bee']\n",
        "\n",
        "acc = []\n",
        "for cond1, cond2 in condition1, condition2:\n",
        "  acc.append(extract_acc(a, cond1, cond2))\n",
        "\n",
        "print(acc)\n",
        "print(mean(acc))"
      ],
      "metadata": {
        "colab": {
          "base_uri": "https://localhost:8080/"
        },
        "id": "r8X6ODeiqBAP",
        "outputId": "25982aa8-02fe-4a5e-de5a-05f9d728d281"
      },
      "execution_count": 8,
      "outputs": [
        {
          "output_type": "stream",
          "name": "stdout",
          "text": [
            "[0.66, 0.58]\n",
            "0.62\n"
          ]
        }
      ]
    },
    {
      "cell_type": "markdown",
      "source": [
        "### Rose and Nichols, 2019 study 4"
      ],
      "metadata": {
        "id": "sl5JYhfNqekf"
      }
    },
    {
      "cell_type": "code",
      "source": [
        "def extract_acc_column_version2(df, cond, key):\n",
        "  '''\n",
        "  Idential to extract_acc(), hard-coded for answer files\n",
        "  with different response columns\n",
        "  '''\n",
        "  acc = []\n",
        "  acc_list = []\n",
        "  mae = []\n",
        "\n",
        "  cond_subset = df[df[\"condition\"] == cond].reset_index()\n",
        "  for i in range(len(cond_subset)):\n",
        "    if cond_subset['categorization_rating_question_2_1'][i] == key:\n",
        "      acc.append(1)\n",
        "    else:\n",
        "      acc.append(0)\n",
        "\n",
        "  return mean(acc)"
      ],
      "metadata": {
        "id": "SzwQfQQorqRz"
      },
      "execution_count": 9,
      "outputs": []
    },
    {
      "cell_type": "code",
      "source": [
        "a = pd.read_csv(\"rose_nichols_2019_study4_new_answer_retrieved.csv\")\n",
        "\n",
        "condition1 = ['bee_telo_changed_fertilized_by_bee','spider']\n",
        "condition2 = ['bee_telo_changed_fertilized_by_spider', 'spider']\n",
        "condition3 = ['bee_telo_preserved_fertilized_by_bee','bee']\n",
        "condition4 = ['bee_telo_preserved_fertilized_by_spider', 'bee']\n",
        "\n",
        "acc = []\n",
        "for cond1, cond2 in condition1, condition2:\n",
        "  acc.append(extract_acc(a, cond1, cond2))\n",
        "  \n",
        "for cond1, cond2 in condition3, condition4:\n",
        "  acc.append(extract_acc(a, cond1, cond2))\n",
        "print(acc)\n",
        "print(mean(acc))"
      ],
      "metadata": {
        "colab": {
          "base_uri": "https://localhost:8080/"
        },
        "id": "ZSIVNqUgqiUL",
        "outputId": "cebb23d8-39dc-4022-d385-4d7242473899"
      },
      "execution_count": 3,
      "outputs": [
        {
          "output_type": "stream",
          "name": "stdout",
          "text": [
            "[0.72, 0.6, 0.04, 0.02]\n",
            "0.345\n"
          ]
        }
      ]
    },
    {
      "cell_type": "markdown",
      "source": [
        "### Rose and Nichols, 2020 study 1"
      ],
      "metadata": {
        "id": "C7G97K2csqMB"
      }
    },
    {
      "cell_type": "code",
      "source": [
        "a = pd.read_csv(\"rose_nichols_2020_study1_new_answer_retrieved.csv\")\n",
        "\n",
        "condition1 = ['hotplate_telo_changed','clock']\n",
        "condition2 = ['hotplate_telo_preserved', 'hotplate']\n",
        "condition3 = ['magnetite_telo_changed','coal']\n",
        "condition4 = ['magnetite_telo_preserved', 'magnetite']\n",
        "condition5 = ['vulture_telo_changed','hummingbird']\n",
        "condition6 = ['vulture_telo_preserved', 'vulture']\n",
        "\n",
        "acc = []\n",
        "for cond1, cond2 in condition1, condition2:\n",
        "  acc.append(extract_acc(a, cond1, cond2))\n",
        "\n",
        "for cond1, cond2 in condition3, condition4:\n",
        "  acc.append(extract_acc(a, cond1, cond2))\n",
        "  \n",
        "for cond3, cond4 in condition3, condition4:\n",
        "  acc.append(extract_acc(a, cond3, cond4))\n",
        "\n",
        "print(acc)\n",
        "print(mean(acc))"
      ],
      "metadata": {
        "colab": {
          "base_uri": "https://localhost:8080/"
        },
        "id": "HO2Wq_fJsrmW",
        "outputId": "4ebadbd3-7b6a-459b-d3a7-70a11e549df0"
      },
      "execution_count": 14,
      "outputs": [
        {
          "output_type": "stream",
          "name": "stdout",
          "text": [
            "[0.84, 0.76, 0.0, 1.0, 0.0, 1.0]\n",
            "0.6\n"
          ]
        }
      ]
    },
    {
      "cell_type": "markdown",
      "source": [
        "### Rose and Nichols, 2020 study 2"
      ],
      "metadata": {
        "id": "rTzc8DjUvKsB"
      }
    },
    {
      "cell_type": "code",
      "source": [
        "a = pd.read_csv(\"rose_nichols_2020_study2_new_answer_retrieved.csv\")\n",
        "\n",
        "condition1 = ['clock_telo_changed','hotplate']\n",
        "condition2 = ['clock_telo_preserved', 'clock']\n",
        "condition3 = ['coal_telo_changed','magnetite']\n",
        "condition4 = ['coal_telo_preserved', 'coal']\n",
        "condition5 = ['hummingbird_telo_changed','vulture']\n",
        "condition6 = ['hummingbird_telo_preserved', 'hummingbird']\n",
        "\n",
        "acc = []\n",
        "for cond1, cond2 in condition1, condition2:\n",
        "  acc.append(extract_acc(a, cond1, cond2))\n",
        "\n",
        "for cond1, cond2 in condition3, condition4:\n",
        "  acc.append(extract_acc(a, cond1, cond2))\n",
        "  \n",
        "for cond3, cond4 in condition3, condition4:\n",
        "  acc.append(extract_acc(a, cond3, cond4))\n",
        "\n",
        "print(acc)\n",
        "print(mean(acc))"
      ],
      "metadata": {
        "colab": {
          "base_uri": "https://localhost:8080/"
        },
        "id": "G5ZuSOnzvLoL",
        "outputId": "4d87bcd8-5698-48d4-b574-21a747859885"
      },
      "execution_count": 15,
      "outputs": [
        {
          "output_type": "stream",
          "name": "stdout",
          "text": [
            "[0.7, 0.78, 1.0, 0.0, 1.0, 0.0]\n",
            "0.58\n"
          ]
        }
      ]
    },
    {
      "cell_type": "markdown",
      "source": [
        "### Rose and Nichols, 2020 study 3"
      ],
      "metadata": {
        "id": "ikgpjEqQv-Qt"
      }
    },
    {
      "cell_type": "code",
      "source": [
        "a = pd.read_csv(\"rose_nichols_2020_study3_new_answer_retrieved.csv\")\n",
        "\n",
        "condition1 = ['hotplate_telo_changed_fertilized_by_clock','clock']\n",
        "condition2 = ['hotplate_telo_changed_fertilized_by_hotplate', 'clock']\n",
        "condition3 = ['hotplate_telo_preserved_fertilized_by_clock','hotplate']\n",
        "condition4 = ['hotplate_telo_preserved_fertilized_by_hotplate', 'hotplate']\n",
        "\n",
        "condition5 = ['magnetite_telo_changed_fertilized_by_coal','coal']\n",
        "condition6 = ['magnetite_telo_changed_fertilized_by_magnetite', 'coal']\n",
        "condition7 = ['magnetite_telo_preserved_fertilized_by_coal','magnetite']\n",
        "condition8 = ['magnetite_telo_preserved_fertilized_by_magnetite', 'magnetite']\n",
        "\n",
        "condition9 = ['vulture_telo_changed_fertilized_by_hummingbird','hummingbird']\n",
        "condition10 = ['vulture_telo_changed_fertilized_by_vulture', 'hummingbird']\n",
        "condition11 = ['vulture_telo_preserved_fertilized_by_hummingbird','vulture']\n",
        "condition12 = ['vulture_telo_preserved_fertilized_by_vulture', 'vulture']\n",
        "\n",
        "acc = []\n",
        "for cond1, cond2 in condition1, condition2:\n",
        "  acc.append(extract_acc(a, cond1, cond2))\n",
        "\n",
        "for cond1, cond2 in condition3, condition4:\n",
        "  acc.append(extract_acc(a, cond1, cond2))\n",
        "  \n",
        "for cond1, cond2 in condition5, condition6:\n",
        "  acc.append(extract_acc(a, cond1, cond2))\n",
        "\n",
        "for cond1, cond2 in condition7, condition8:\n",
        "  acc.append(extract_acc(a, cond1, cond2))\n",
        "\n",
        "for cond1, cond2 in condition9, condition10:\n",
        "  acc.append(extract_acc(a, cond1, cond2))\n",
        "  \n",
        "for cond3, cond4 in condition11, condition12:\n",
        "  acc.append(extract_acc(a, cond3, cond4))\n",
        "\n",
        "print(acc)\n",
        "print(mean(acc))"
      ],
      "metadata": {
        "colab": {
          "base_uri": "https://localhost:8080/"
        },
        "id": "VqRh33D5wFIY",
        "outputId": "bfbd3588-dba0-4f04-ed5d-f38ad38e505b"
      },
      "execution_count": 16,
      "outputs": [
        {
          "output_type": "stream",
          "name": "stdout",
          "text": [
            "[1.0, 1.0, 0.54, 0.54, 0.0, 0.0, 1.0, 1.0, 0.72, 0.72, 0.64, 0.64]\n",
            "0.6499999999999999\n"
          ]
        }
      ]
    },
    {
      "cell_type": "markdown",
      "source": [
        "### Gelman and Wellman, 1991 study 2"
      ],
      "metadata": {
        "id": "B079dkJvyVdM"
      }
    },
    {
      "cell_type": "code",
      "source": [
        "# Hard-coded because results are in yes/nos\n",
        "\n",
        "def gelman_extract(df, correct_condition):\n",
        "  data = []\n",
        "  for i in range(len(df)):\n",
        "    if a['categorization_rating'][i] == correct_condition:\n",
        "      data.append(1)\n",
        "    else:\n",
        "      data.append(0)\n",
        "  return mean(data)"
      ],
      "metadata": {
        "id": "Rm81c8vTy4NR"
      },
      "execution_count": 17,
      "outputs": []
    },
    {
      "cell_type": "code",
      "source": [
        "a = pd.read_csv(\"gelman_wellman_1991_study2_new_answer_retrieved.csv\")\n",
        "\n",
        "inside_removal_natural_kind = a[(a['type_category'] == \"inside_removal\") & (a['is_natural_kind'] == True)]\n",
        "inside_removal_artifact = a[(a['type_category'] == \"inside_removal\") & (a['is_natural_kind'] == False)]\n",
        "\n",
        "outside_removal_natural_kind = a[(a['type_category'] == \"outside_removal\") & (a['is_natural_kind'] == True)]\n",
        "outside_removal_artifact = a[(a['type_category'] == \"outside_removal\") & (a['is_natural_kind'] == False)]\n",
        "\n",
        "acc = []\n",
        "acc.append(gelman_extract(inside_removal_natural_kind, 'no')) #nn: if remove inside, no longer category\n",
        "acc.append(gelman_extract(outside_removal_natural_kind, 'yes')) #nn: if remove outside, still category\n",
        "acc.append(gelman_extract(inside_removal_artifact, 'yes')) #artif: if remove inside, still category\n",
        "acc.append(gelman_extract(outside_removal_artifact, 'yes')) #artif: if remove outside, still category\n",
        "\n",
        "print(acc)\n",
        "print(mean(acc))"
      ],
      "metadata": {
        "colab": {
          "base_uri": "https://localhost:8080/"
        },
        "id": "0GZnQ1FLyf1_",
        "outputId": "3440d4e2-328d-4842-9c54-9b5f5df2aaf1"
      },
      "execution_count": 18,
      "outputs": [
        {
          "output_type": "stream",
          "name": "stdout",
          "text": [
            "[0.0, 1.0, 1.0, 1.0]\n",
            "0.75\n"
          ]
        }
      ]
    },
    {
      "cell_type": "markdown",
      "source": [
        "### Gelman and Wellman, 1991 study 3"
      ],
      "metadata": {
        "id": "BaT_FK3r1gF5"
      }
    },
    {
      "cell_type": "code",
      "source": [
        "a = pd.read_csv(\"gelman_wellman_1991_study3_new_answer_retrieved.csv\")\n",
        "\n",
        "condition1 = ['cow_raised_by_pig','curly']\n",
        "condition2 = ['kangaroo_raised_by_goat', 'yes'] #answer extracted as yes/no here\n",
        "condition3 = ['mouse_raised_by_dog','round']\n",
        "condition4 = ['rabbit_raised_by_monkey', 'long']\n",
        "condition5 = ['tiger_raised_by_horse','striped']\n",
        "\n",
        "acc = []\n",
        "for cond1, cond2 in condition1, condition2:\n",
        "  acc.append(extract_acc(a, cond1, cond2))\n",
        "\n",
        "for cond1, cond2 in condition3, condition4:\n",
        "  acc.append(extract_acc(a, cond1, cond2))\n",
        "  \n",
        "acc.append(extract_acc(a, condition5[0], condition5[1]))\n",
        "\n",
        "print(acc)\n",
        "print(mean(acc))"
      ],
      "metadata": {
        "colab": {
          "base_uri": "https://localhost:8080/"
        },
        "id": "td_29J5W1f5t",
        "outputId": "08410ee0-e631-4790-e881-a97fff28e5c5"
      },
      "execution_count": 19,
      "outputs": [
        {
          "output_type": "stream",
          "name": "stdout",
          "text": [
            "[0.78, 0.54, 0.62, 0.56, 0.7]\n",
            "0.64\n"
          ]
        }
      ]
    },
    {
      "cell_type": "markdown",
      "source": [
        "### Gelman and Wellman, 1991 study 5"
      ],
      "metadata": {
        "id": "nft0EFL-8Qc_"
      }
    },
    {
      "cell_type": "code",
      "source": [
        "a = pd.read_csv(\"gelman_wellman_1991_study5_new_answer_retrieved.csv\")\n",
        "\n",
        "condition1 = ['appleseed_planted_in_flowerpot','apple']\n",
        "condition2 = ['flowerseed_planted_with_strawberry', 'flower'] \n",
        "condition3 = ['grapeseed_planted_with_coconuttree','grape']\n",
        "condition4 = ['lemonseed_planted_with_orangetree', 'lemon']\n",
        "condition5 = ['peachseed_planted_with_plumtree','peach']\n",
        "condition6 = ['roseseed_planted_with_dandelion','rose']\n",
        "condition7 = ['watermelonseed_planted_in_cornfield','watermelon']\n",
        "\n",
        "acc = []\n",
        "for cond1, cond2 in condition1, condition2:\n",
        "  acc.append(extract_acc(a, cond1, cond2))\n",
        "\n",
        "for cond1, cond2 in condition3, condition4:\n",
        "  acc.append(extract_acc(a, cond1, cond2))\n",
        "\n",
        "for cond1, cond2 in condition5, condition6:\n",
        "  acc.append(extract_acc(a, cond1, cond2))\n",
        "  \n",
        "acc.append(extract_acc(a, condition7[0], condition7[1]))\n",
        "\n",
        "print(acc)\n",
        "print(mean(acc))"
      ],
      "metadata": {
        "colab": {
          "base_uri": "https://localhost:8080/"
        },
        "id": "uFlO5GCv8RUM",
        "outputId": "e0abfff2-25fc-439f-9856-16b8b078b3b2"
      },
      "execution_count": 20,
      "outputs": [
        {
          "output_type": "stream",
          "name": "stdout",
          "text": [
            "[0.0, 0.16, 0.0, 0.0, 0.0, 0.24, 0.7]\n",
            "0.15714285714285717\n"
          ]
        }
      ]
    },
    {
      "cell_type": "markdown",
      "source": [
        "### Keil, 1992"
      ],
      "metadata": {
        "id": "H5gMipyX9DcY"
      }
    },
    {
      "cell_type": "code",
      "source": [
        "a = pd.read_csv(\"keil_1992_study1_new_answer_retrieved.csv\")\n",
        "\n",
        "natural_kind = a[a['is_natural_kind'] == True]\n",
        "artifact = a[a['is_natural_kind'] == False]\n",
        "\n",
        "#nn - category stays\n",
        "condition1 = ['chicken_transformed_to_turkey','chicken']\n",
        "condition2 = ['grapefruit_transformed_to_orange', 'grapefruit']\n",
        "condition3 = ['horse_transformed_to_zebra','horse']\n",
        "condition4 = ['lead_transformed_to_gold', 'lead']\n",
        "condition5 = ['raccoon_transformed_to_skunk','raccoon']\n",
        "condition6 = ['sheep_transformed_to_goat', 'sheep']\n",
        "condition7 = ['tiger_transformed_to_lion','tiger']\n",
        "\n",
        "#artif - category changes\n",
        "condition8 = ['bobbypin_transformed_to_needle', 'needle']\n",
        "condition9 = ['card_transformed_to_toiletpaper','toiletpaper']\n",
        "condition10 = ['coffeepot_transformed_to_birdfeeder', 'birdfeeder']\n",
        "condition11 = ['garbagecan_transformed_to_chair','chair']\n",
        "condition12 = ['kitchenpipe_transformed_to_flute', 'flute']\n",
        "condition13 = ['necktie_transformed_to_shoelace', 'shoelace']\n",
        "condition14 = ['plasticbottle_transformed_to_flipflop', 'flipflop']\n",
        "condition15 = ['tire_transformed_to_boot', 'boot']\n",
        "\n",
        "acc = []\n",
        "for cond1, cond2 in condition1, condition2:\n",
        "  acc.append(extract_acc(a, cond1, cond2))\n",
        "\n",
        "for cond1, cond2 in condition3, condition4:\n",
        "  acc.append(extract_acc(a, cond1, cond2))\n",
        "  \n",
        "for cond1, cond2 in condition5, condition6:\n",
        "  acc.append(extract_acc(a, cond1, cond2))\n",
        "\n",
        "for cond1, cond2 in condition7, condition8:\n",
        "  acc.append(extract_acc(a, cond1, cond2))\n",
        "\n",
        "for cond1, cond2 in condition9, condition10:\n",
        "  acc.append(extract_acc(a, cond1, cond2))\n",
        "  \n",
        "for cond3, cond4 in condition11, condition12:\n",
        "  acc.append(extract_acc(a, cond3, cond4))\n",
        "\n",
        "for cond3, cond4 in condition13, condition14:\n",
        "  acc.append(extract_acc(a, cond3, cond4))\n",
        "\n",
        "acc.append(extract_acc(a, condition15[0], condition15[1]))\n",
        "\n",
        "print(acc)\n",
        "print(mean(acc))"
      ],
      "metadata": {
        "colab": {
          "base_uri": "https://localhost:8080/"
        },
        "id": "Q58O_6669INi",
        "outputId": "6d6e6a1d-9c8d-4f0b-d5bb-53fe27d3eddc"
      },
      "execution_count": 21,
      "outputs": [
        {
          "output_type": "stream",
          "name": "stdout",
          "text": [
            "[0.16, 0.26, 0.1, 0.26, 0.74, 0.54, 0.62, 0.0, 0.0, 1.0, 0.82, 1.0, 0.0, 0.0, 0.82]\n",
            "0.42133333333333334\n"
          ]
        }
      ]
    },
    {
      "cell_type": "markdown",
      "source": [
        "### Waxman, 2007 study 1"
      ],
      "metadata": {
        "id": "rlIZEwD0_FhM"
      }
    },
    {
      "cell_type": "code",
      "source": [
        "a = pd.read_csv(\"waxman_2007_study1_new_answer_retrieved.csv\")\n",
        "\n",
        "condition1 = ['cow_raised_by_pig','cow']\n",
        "condition2 = ['pigeon_raised_by_turkey', 'pigeon']\n",
        "condition3 = ['turtle_raised_by_toad','turtle']\n",
        "\n",
        "acc = []\n",
        "for cond1, cond2 in condition1, condition2:\n",
        "  acc.append(extract_acc(a, cond1, cond2))\n",
        "\n",
        "acc.append(extract_acc(a, condition3[0], condition3[1]))\n",
        "\n",
        "print(acc)\n",
        "print(mean(acc))"
      ],
      "metadata": {
        "colab": {
          "base_uri": "https://localhost:8080/"
        },
        "id": "chyAyEbY9wXG",
        "outputId": "191ece70-0949-4b63-e8b0-9b6161d984fb"
      },
      "execution_count": 22,
      "outputs": [
        {
          "output_type": "stream",
          "name": "stdout",
          "text": [
            "[0.38, 0.36, 0.46]\n",
            "0.39999999999999997\n"
          ]
        }
      ]
    },
    {
      "cell_type": "markdown",
      "source": [
        "### Waxman, 2007 study 2"
      ],
      "metadata": {
        "id": "iUDiXjsKAleh"
      }
    },
    {
      "cell_type": "code",
      "source": [
        "a = pd.read_csv(\"waxman_2007_study2_new_answer_retrieved.csv\")\n",
        "\n",
        "condition1 = ['cardinal_raised_by_seagull','cardinal']\n",
        "condition2 = ['cow_raised_by_pig', 'cow'] \n",
        "condition3 = ['turtle_raised_by_toad','turtle']\n",
        "\n",
        "acc = []\n",
        "for cond1, cond2 in condition1, condition2:\n",
        "  acc.append(extract_acc(a, cond1, cond2))\n",
        "\n",
        "acc.append(extract_acc(a, condition3[0], condition3[1]))\n",
        "\n",
        "print(acc)\n",
        "print(mean(acc))"
      ],
      "metadata": {
        "colab": {
          "base_uri": "https://localhost:8080/"
        },
        "id": "Ray9dKbw9wUz",
        "outputId": "6454fc51-a23b-474f-fe7c-9dd23ca03f5b"
      },
      "execution_count": 23,
      "outputs": [
        {
          "output_type": "stream",
          "name": "stdout",
          "text": [
            "[0.18, 0.38, 0.46]\n",
            "0.34\n"
          ]
        }
      ]
    },
    {
      "cell_type": "markdown",
      "source": [
        "### Waxman, 2007 study 3"
      ],
      "metadata": {
        "id": "WShYN6lwBJDv"
      }
    },
    {
      "cell_type": "code",
      "source": [
        "a = pd.read_csv(\"waxman_2007_study3_new_answer_retrieved.csv\")\n",
        "\n",
        "condition1 = ['deer_raised_by_sheep','deer']\n",
        "condition2 = ['deer_raised_by_sheep_blood', 'deer'] \n",
        "condition3 = ['rabbit_raised_by_raccoons','rabbit']\n",
        "condition4 = ['rabbit_raised_by_raccoons_blood','rabbit']\n",
        "\n",
        "acc = []\n",
        "for cond1, cond2 in condition1, condition2:\n",
        "  acc.append(extract_acc(a, cond1, cond2))\n",
        "\n",
        "for cond1, cond2 in condition3, condition4:\n",
        "  acc.append(extract_acc(a, cond1, cond2))\n",
        "print(acc)\n",
        "print(mean(acc))"
      ],
      "metadata": {
        "colab": {
          "base_uri": "https://localhost:8080/"
        },
        "id": "I6TMK-_u9wQ2",
        "outputId": "c36b3ff0-8ab5-4d9f-c1d3-9a543f052fa9"
      },
      "execution_count": 24,
      "outputs": [
        {
          "output_type": "stream",
          "name": "stdout",
          "text": [
            "[0.16, 0.08, 0.0, 0.0]\n",
            "0.06\n"
          ]
        }
      ]
    },
    {
      "cell_type": "markdown",
      "source": [
        "### Barton & K, 1989"
      ],
      "metadata": {
        "id": "BgvnOwuwDT93"
      }
    },
    {
      "cell_type": "code",
      "source": [
        "a = pd.read_csv('barton_and_komatsu_1997_study1.csv')\n",
        "\n",
        "condition1 = ['TV_changed_in_functional','no']\n",
        "condition2 = ['gold_changed_in_molecule', 'no'] \n",
        "condition3 = ['mirror_changed_in_functional','no']\n",
        "condition4 = ['pencil_changed_in_functional','no']\n",
        "condition5 = ['record_changed_in_functional','no']\n",
        "condition6 = ['tire_changed_in_functional','no']\n",
        "condition7 = ['tree_changed_in_molecule','no']\n",
        "condition8 = ['water_changed_in_molecule','no']\n",
        "\n",
        "acc = []\n",
        "for cond1, cond2 in condition1, condition2:\n",
        "  acc.append(extract_acc(a, cond1, cond2))\n",
        "\n",
        "for cond1, cond2 in condition3, condition4:\n",
        "  acc.append(extract_acc(a, cond1, cond2))\n",
        "\n",
        "for cond1, cond2 in condition5, condition6:\n",
        "  acc.append(extract_acc(a, cond1, cond2))\n",
        "\n",
        "for cond1, cond2 in condition7, condition8:\n",
        "  acc.append(extract_acc(a, cond1, cond2))\n",
        "  \n",
        "print(acc)\n",
        "print(mean(acc))"
      ],
      "metadata": {
        "colab": {
          "base_uri": "https://localhost:8080/"
        },
        "id": "nDKGwYQ49wPb",
        "outputId": "02d544e6-30e2-4fc7-d312-e9435e82d88f"
      },
      "execution_count": 25,
      "outputs": [
        {
          "output_type": "stream",
          "name": "stdout",
          "text": [
            "[0.0, 0.16, 0.0, 0.0, 0.0, 0.0, 0.0, 0.0]\n",
            "0.02\n"
          ]
        }
      ]
    },
    {
      "cell_type": "markdown",
      "source": [
        "### Hampton 2007 - typicality"
      ],
      "metadata": {
        "id": "5iIVJ5NC7P8B"
      }
    },
    {
      "cell_type": "code",
      "source": [
        "def extract_acc_column_version3(df, cond, key):\n",
        "  '''\n",
        "  Idential to extract_acc(), hard-coded for answer files\n",
        "  with different response columns\n",
        "  '''\n",
        "  acc = []\n",
        "  acc_list = []\n",
        "  mae = []\n",
        "\n",
        "  cond_subset = df[df[\"condition\"] == cond].reset_index()\n",
        "  for i in range(len(cond_subset)):\n",
        "    if cond_subset['bloom_response_question_1_3'][i] == key:\n",
        "      acc.append(1)\n",
        "    else:\n",
        "      acc.append(0)\n",
        "\n",
        "  return mean(acc)"
      ],
      "metadata": {
        "id": "4kIQmND-C9Vw"
      },
      "execution_count": 29,
      "outputs": []
    },
    {
      "cell_type": "code",
      "source": [
        "# >50% effect only present in question 1.3 (typicality with both mutation and maturation) \n",
        "# and 1.4 (categorization with just maturation)\n",
        "\n",
        "a = pd.read_csv('hampton_2007_study3_new_question1_3.csv')\n",
        "\n",
        "condition1 = ['horse_matured_to_zebra','zebra']\n",
        "condition2 = ['horse_mutated_to_zebra', 'zebra'] \n",
        "condition3 = ['hummingbird_matured_to_bee','bee']\n",
        "condition4 = ['hummingbird_mutated_to_bee','bee']\n",
        "condition5 = ['snake_matured_to_lizard','lizard']\n",
        "condition6 = ['snake_mutated_to_lizard','lizard']\n",
        "condition7 = ['worm_matured_to_snail','snail']\n",
        "condition8 = ['worm_mutated_to_snail','snail']\n",
        "\n",
        "acc = []\n",
        "for cond1, cond2 in condition1, condition2:\n",
        "  acc.append(extract_acc_column_version3(a, cond1, cond2))\n",
        "\n",
        "for cond1, cond2 in condition3, condition4:\n",
        "  acc.append(extract_acc_column_version3(a, cond1, cond2))\n",
        "\n",
        "for cond1, cond2 in condition5, condition6:\n",
        "  acc.append(extract_acc_column_version3(a, cond1, cond2))\n",
        "\n",
        "for cond1, cond2 in condition7, condition8:\n",
        "  acc.append(extract_acc_column_version3(a, cond1, cond2))\n",
        "  \n",
        "print(acc)\n",
        "print(mean(acc))"
      ],
      "metadata": {
        "colab": {
          "base_uri": "https://localhost:8080/"
        },
        "id": "b67avxhs7OUU",
        "outputId": "9367de1b-01d1-440c-fccf-dea074aa7b9e"
      },
      "execution_count": 30,
      "outputs": [
        {
          "output_type": "stream",
          "name": "stdout",
          "text": [
            "[0.94, 0.68, 0.0, 0.0, 0.9, 0.68, 0.98, 0.9]\n",
            "0.635\n"
          ]
        }
      ]
    },
    {
      "cell_type": "markdown",
      "source": [
        "### Hampton 2007 - categorization"
      ],
      "metadata": {
        "id": "jkSjTQE0DIi1"
      }
    },
    {
      "cell_type": "code",
      "source": [
        "def extract_acc_column_version4(df, cond, key):\n",
        "  '''\n",
        "  Idential to extract_acc(), hard-coded for answer files\n",
        "  with different response columns\n",
        "  '''\n",
        "  acc = []\n",
        "  acc_list = []\n",
        "  mae = []\n",
        "\n",
        "  cond_subset = df[df[\"condition\"] == cond].reset_index()\n",
        "  for i in range(len(cond_subset)):\n",
        "    if cond_subset['bloom_response_question_1_4'][i] == key:\n",
        "      acc.append(1)\n",
        "    else:\n",
        "      acc.append(0)\n",
        "\n",
        "  return mean(acc)"
      ],
      "metadata": {
        "id": "QnlwgC1xDamC"
      },
      "execution_count": 31,
      "outputs": []
    },
    {
      "cell_type": "code",
      "source": [
        "a = pd.read_csv('hampton_2007_study3_new_question1_4.csv')\n",
        "\n",
        "condition1 = ['horse_matured_to_zebra','zebra']\n",
        "condition2 = ['hummingbird_matured_to_bee', 'bee'] \n",
        "condition3 = ['snake_matured_to_lizard','lizard']\n",
        "condition4 = ['worm_matured_to_snail','snail']\n",
        "\n",
        "acc = []\n",
        "for cond1, cond2 in condition1, condition2:\n",
        "  acc.append(extract_acc_column_version4(a, cond1, cond2))\n",
        "\n",
        "for cond1, cond2 in condition3, condition4:\n",
        "  acc.append(extract_acc_column_version4(a, cond1, cond2))\n",
        "\n",
        "print(acc)\n",
        "print(mean(acc))"
      ],
      "metadata": {
        "colab": {
          "base_uri": "https://localhost:8080/"
        },
        "id": "nqrkIvlrDIN2",
        "outputId": "bf8601f6-5a08-490a-81ab-773292640612"
      },
      "execution_count": 33,
      "outputs": [
        {
          "output_type": "stream",
          "name": "stdout",
          "text": [
            "[0.88, 0.0, 1.0, 0.86]\n",
            "0.6849999999999999\n"
          ]
        }
      ]
    },
    {
      "cell_type": "markdown",
      "source": [
        "Hampton, 2007 average"
      ],
      "metadata": {
        "id": "1W5txyFTDnty"
      }
    },
    {
      "cell_type": "code",
      "source": [
        "print(mean([0.6849999999999999, 0.635]))"
      ],
      "metadata": {
        "colab": {
          "base_uri": "https://localhost:8080/"
        },
        "id": "BEihSJauDqyq",
        "outputId": "be6370ab-816d-42d6-9fb2-bd817069edf3"
      },
      "execution_count": 34,
      "outputs": [
        {
          "output_type": "stream",
          "name": "stdout",
          "text": [
            "0.6599999999999999\n"
          ]
        }
      ]
    }
  ]
}