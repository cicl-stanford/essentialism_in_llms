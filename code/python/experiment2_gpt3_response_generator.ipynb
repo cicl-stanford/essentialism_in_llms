{
 "cells": [
  {
   "cell_type": "code",
   "execution_count": 1,
   "metadata": {},
   "outputs": [],
   "source": [
    "import openai\n",
    "import pandas as pd\n",
    "import numpy as np\n",
    "import random\n",
    "\n",
    "openai.api_key = \"KEY\""
   ]
  },
  {
   "cell_type": "code",
   "execution_count": null,
   "metadata": {},
   "outputs": [],
   "source": [
    "exp_condition_df = pd.read_csv('../experiments/experiment2/experiment2_tasks_collection_essentialism.csv')\n",
    "exp_condition_df = exp_condition_df.fillna(\"\")\n",
    "exp_condition_df\n"
   ]
  },
  {
   "cell_type": "code",
   "execution_count": null,
   "metadata": {},
   "outputs": [],
   "source": [
    "gpt3_response_df = pd.DataFrame(columns=exp_condition_df.columns)\n",
    "\n",
    "\n",
    "for exp_condition in range(..., ...):\n",
    "    for rep_id in range(...): \n",
    "      exp_row = exp_condition_df.loc[[exp_condition]]\n",
    "      exp_row[\"rep_id\"] = rep_id + 1\n",
    "\n",
    "      prompt = \"\"\n",
    "      for scenario_id in range(1, 3):  # We have two scenarios.\n",
    "          scenario_column_name = f\"scenario_{scenario_id}\"  # f\"scenario_{scenario_id}\" is scenario column name    \n",
    "          \n",
    "          prompt= \"\"\n",
    "          prompt += exp_condition_df[scenario_column_name][exp_condition] + \" \" + exp_condition_df[\"question\"][exp_condition]\n",
    "\n",
    "\n",
    "          print(f\"scenario_{scenario_id}:\\n{prompt}\\n\\n\")\n",
    "          answer = (openai.Completion.create(\n",
    "                engine=\"text-davinci-002\",\n",
    "                prompt=prompt,\n",
    "                max_tokens=50)).choices[0].text.strip()\n",
    "          gpt3_response_column_name = f\"gpt3_response_scenario_{scenario_id}\" \n",
    "          exp_row[gpt3_response_column_name] = answer\n",
    "          print(answer)\n",
    "          print(\"-------------------------------------------------------------------\\n\")\n",
    "\n",
    "        \n",
    "      gpt3_response_df = pd.concat([gpt3_response_df, exp_row], axis=0)\n",
    "    \n",
    "\n",
    "gpt3_response_df.rep_id = gpt3_response_df.rep_id.astype(int)\n",
    "\n",
    "col = gpt3_response_df.pop(\"rep_id\")\n",
    "gpt3_response_df.insert(2, col.name, col)\n",
    "\n",
    "gpt3_response_df\n",
    "\n"
   ]
  },
  {
   "cell_type": "code",
   "execution_count": 18,
   "metadata": {},
   "outputs": [],
   "source": [
    "gpt3_response_df.to_csv(\"../../data/experiment2/experiment2_gpt3_unprocessed/....csv\", index=False)"
   ]
  }
 ],
 "metadata": {
  "kernelspec": {
   "display_name": "Python 3.9.12 ('base')",
   "language": "python",
   "name": "python3"
  },
  "language_info": {
   "codemirror_mode": {
    "name": "ipython",
    "version": 3
   },
   "file_extension": ".py",
   "mimetype": "text/x-python",
   "name": "python",
   "nbconvert_exporter": "python",
   "pygments_lexer": "ipython3",
   "version": "3.9.12"
  },
  "orig_nbformat": 4,
  "vscode": {
   "interpreter": {
    "hash": "40d3a090f54c6569ab1632332b64b2c03c39dcf918b08424e98f38b5ae0af88f"
   }
  }
 },
 "nbformat": 4,
 "nbformat_minor": 2
}
