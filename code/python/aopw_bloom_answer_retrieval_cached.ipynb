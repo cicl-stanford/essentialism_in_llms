{
 "cells": [
  {
   "cell_type": "code",
   "execution_count": null,
   "metadata": {},
   "outputs": [],
   "source": [
    "import openai\n",
    "import pandas as pd\n",
    "import numpy as np\n",
    "import random\n",
    "random.seed(2022)\n",
    "\n",
    "openai.api_key = \"KEY\"\n",
    "\n",
    "df = pd.read_csv(\"../../data/analysis_of_prior_work/aopw_bloom_response_by_study/....csv\")\n",
    "df"
   ]
  },
  {
   "cell_type": "code",
   "execution_count": 34,
   "metadata": {},
   "outputs": [],
   "source": [
    "asked_question_cheat_sheet = {}"
   ]
  },
  {
   "cell_type": "code",
   "execution_count": 35,
   "metadata": {},
   "outputs": [],
   "source": [
    "def maybe_ask_gpt3(sentence, prefix_prompt):\n",
    "    sentence = sentence.strip()\n",
    "    if sentence in asked_question_cheat_sheet:\n",
    "        return asked_question_cheat_sheet[sentence], False #Skip asking gpt3 again if the sentence existes in the cheat sheet\n",
    "    else:\n",
    "        prompt = prefix_prompt.strip() + \"\\n\\n\" + f\"Sentence: {sentence}\\n\"  + \"Answer:\"\n",
    "        answer = (\n",
    "            openai.Completion.create(\n",
    "                engine=\"text-curie-001\", \n",
    "                prompt=prompt,\n",
    "                temperature = 0,\n",
    "                top_p=0.1,\n",
    "                max_tokens=5)).choices[0].text.strip()\n",
    "        asked_question_cheat_sheet[sentence] = answer\n",
    "        return answer, True"
   ]
  },
  {
   "cell_type": "code",
   "execution_count": 36,
   "metadata": {},
   "outputs": [],
   "source": [
    "def truncate_response(sentence): #truncate the original responses\n",
    "    cutoff_pos = sentence.find(\".\")\n",
    "    cutoff_pos = cutoff_pos + 1 if cutoff_pos >= 0 else None\n",
    "    return sentence[:cutoff_pos].split(\"\\n\")[0].strip()"
   ]
  },
  {
   "cell_type": "code",
   "execution_count": null,
   "metadata": {},
   "outputs": [],
   "source": [
    "for col in df.columns:\n",
    "    if col.startswith(\"bloom_response_question_\"):\n",
    "        print(col)\n",
    "        print(df[col].apply(truncate_response).values)\n",
    "        df[f\"{col}_truncated\"] = df[col].apply(truncate_response).values"
   ]
  },
  {
   "cell_type": "code",
   "execution_count": null,
   "metadata": {},
   "outputs": [],
   "source": [
    "df = df.fillna(\"\")\n",
    "\n",
    "categorization_rating_column = []\n",
    "charged_by_gpt3_cnt = 0\n",
    "\n",
    "for row in range(100):\n",
    "    prefix_prompt = \"\"\"\n",
    "\n",
    "\n",
    "    \"\"\"\n",
    "    categorization_rating, is_charged_by_gpt3 = maybe_ask_gpt3(df[\"bloom_response_question_1_1_truncated\"][row], prefix_prompt)\n",
    "    if is_charged_by_gpt3:\n",
    "        charged_by_gpt3_cnt += 1\n",
    "\n",
    "    print(df[\"bloom_response_question_1_1_truncated\"][row])\n",
    "    print(categorization_rating)\n",
    "    print(\"------------------------\")\n",
    "\n",
    "    categorization_rating_column.append(categorization_rating)\n",
    "\n",
    "\n",
    "df[\"categorization_rating\"] = categorization_rating_column\n",
    "\n",
    "# Optional: \n",
    "# print(f\"Charged by GPT-3 for {charged_by_gpt3_cnt} / {len(categorization_rating_column)} times\")\n"
   ]
  },
  {
   "cell_type": "code",
   "execution_count": 23,
   "metadata": {},
   "outputs": [],
   "source": [
    "df.to_csv(\"../../data/analysis_of_prior_work/aopw_bloom_response_by_study_answer_retrieved/....csv\", index=False)"
   ]
  }
 ],
 "metadata": {
  "kernelspec": {
   "display_name": "Python 3.9.12 ('base')",
   "language": "python",
   "name": "python3"
  },
  "language_info": {
   "codemirror_mode": {
    "name": "ipython",
    "version": 3
   },
   "file_extension": ".py",
   "mimetype": "text/x-python",
   "name": "python",
   "nbconvert_exporter": "python",
   "pygments_lexer": "ipython3",
   "version": "3.9.12"
  },
  "orig_nbformat": 4,
  "vscode": {
   "interpreter": {
    "hash": "40d3a090f54c6569ab1632332b64b2c03c39dcf918b08424e98f38b5ae0af88f"
   }
  }
 },
 "nbformat": 4,
 "nbformat_minor": 2
}
