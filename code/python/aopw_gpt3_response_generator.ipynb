{
 "cells": [
  {
   "cell_type": "markdown",
   "metadata": {},
   "source": [
    "# Load Packages"
   ]
  },
  {
   "cell_type": "code",
   "execution_count": 11,
   "metadata": {},
   "outputs": [],
   "source": [
    "import openai\n",
    "import pandas as pd\n",
    "import numpy as np\n",
    "import random\n",
    "\n",
    "openai.api_key = \"KEY\""
   ]
  },
  {
   "cell_type": "markdown",
   "metadata": {},
   "source": [
    "# Load Data"
   ]
  },
  {
   "cell_type": "code",
   "execution_count": null,
   "metadata": {},
   "outputs": [],
   "source": [
    "exp_condition_df = pd.read_csv('../experiments/analysis_of_prior_work/aopw_tasks_collection_essentialism.csv')\n",
    "exp_condition_df = exp_condition_df.fillna(\"\")\n",
    "exp_condition_df\n"
   ]
  },
  {
   "cell_type": "markdown",
   "metadata": {},
   "source": [
    "# Query GPT3"
   ]
  },
  {
   "cell_type": "code",
   "execution_count": null,
   "metadata": {},
   "outputs": [],
   "source": [
    "\n",
    "gpt3_response_df = pd.DataFrame(columns=exp_condition_df.columns)\n",
    "\n",
    "\n",
    "for exp_condition in range(...,...): #range[1] means the second row of the csv file, can change to range[2] to get the third row of the csv file. We will want to start with [1] since we ran the first row already.\n",
    "    for rep_id in range(50): # generate 50 responses\n",
    "      exp_row = exp_condition_df.loc[[exp_condition]]\n",
    "      exp_row[\"rep_id\"] = rep_id + 1\n",
    "\n",
    "      prompt = \"\"\n",
    "      for scenario_id in range(1, 3):  # We have two scenarios.\n",
    "          scenario_column_name = f\"scenario_{scenario_id}\"  # f\"scenario_{scenario_id}\" is scenario column name\n",
    "          print(exp_condition_df[scenario_column_name][exp_condition])\n",
    "          if exp_condition_df[scenario_column_name][exp_condition] == \"\":\n",
    "            break  # Skip when the scenario is empty.\n",
    "          prompt += \"Scenario: \" + exp_condition_df[scenario_column_name][exp_condition]  \n",
    "\n",
    "          for question_id in range(1,7): # some cases have more than one question, so we need to loop through them. If there are none, we will break.\n",
    "            question_column_name = f\"question_{scenario_id}_{question_id}_text\"  # f\"question_{scenario_id}_{question_id}_text\" is question column name\n",
    "            if question_column_name not in exp_condition_df:  \n",
    "              break\n",
    "            if exp_condition_df[question_column_name][exp_condition] == \"\":\n",
    "              break\n",
    "            prompt += \"\\n\\nQuestion: \" + exp_condition_df[question_column_name][exp_condition] + \"\\nAnswer: \"\n",
    "\n",
    "            print(f\"Scenario: {scenario_id}, Question: {question_id}:\\n{prompt}\\n\\n\")\n",
    "            print(\"-------------------------------------------------------------------\\n\")\n",
    "          \n",
    "            answer = (openai.Completion.create(\n",
    "                engine=\"text-curie-001\",\n",
    "                prompt=prompt,\n",
    "                max_tokens=100)).choices[0].text.strip()\n",
    "\n",
    "            gpt3_response_column_name = f\"gpt3_response_question_{scenario_id}_{question_id}\" \n",
    "            exp_row[gpt3_response_column_name] = answer\n",
    "\n",
    "            prompt += answer + \"\\n\"\n",
    "\n",
    "      gpt3_response_df = pd.concat([gpt3_response_df, exp_row], axis=0)\n",
    "\n",
    "gpt3_response_df.rep_id = gpt3_response_df.rep_id.astype(int)\n",
    "\n",
    "col = gpt3_response_df.pop(\"rep_id\")\n",
    "gpt3_response_df.insert(2, col.name, col)\n",
    "\n",
    "gpt3_response_df\n",
    "\n"
   ]
  },
  {
   "cell_type": "markdown",
   "metadata": {},
   "source": [
    "# Save Responses to CSV"
   ]
  },
  {
   "cell_type": "code",
   "execution_count": 14,
   "metadata": {},
   "outputs": [],
   "source": [
    "gpt3_response_df.to_csv(\"../../data/analysis_of_prior_work/aopw_gpt3_response_by_study/....csv\", index=False)"
   ]
  }
 ],
 "metadata": {
  "kernelspec": {
   "display_name": "Python 3.9.12 ('base')",
   "language": "python",
   "name": "python3"
  },
  "language_info": {
   "codemirror_mode": {
    "name": "ipython",
    "version": 3
   },
   "file_extension": ".py",
   "mimetype": "text/x-python",
   "name": "python",
   "nbconvert_exporter": "python",
   "pygments_lexer": "ipython3",
   "version": "3.9.12"
  },
  "orig_nbformat": 4,
  "vscode": {
   "interpreter": {
    "hash": "40d3a090f54c6569ab1632332b64b2c03c39dcf918b08424e98f38b5ae0af88f"
   }
  }
 },
 "nbformat": 4,
 "nbformat_minor": 2
}
