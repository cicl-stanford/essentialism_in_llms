{
 "cells": [
  {
   "cell_type": "code",
   "execution_count": null,
   "metadata": {},
   "outputs": [],
   "source": [
    "! pip install huggingface_hub\n",
    "! git config --global credential.helper store"
   ]
  },
  {
   "cell_type": "code",
   "execution_count": 58,
   "metadata": {},
   "outputs": [],
   "source": [
    "from huggingface_hub import notebook_login\n",
    "from huggingface_hub import HfFolder\n",
    "import pandas as pd\n",
    "\n"
   ]
  },
  {
   "cell_type": "code",
   "execution_count": null,
   "metadata": {},
   "outputs": [],
   "source": [
    "#enter your API key, you can make one for free on HF\n",
    "notebook_login()   "
   ]
  },
  {
   "cell_type": "code",
   "execution_count": 60,
   "metadata": {},
   "outputs": [],
   "source": [
    "from huggingface_hub import InferenceApi\n",
    "\n",
    "inference = InferenceApi(\"bigscience/bloom\",token=HfFolder.get_token())"
   ]
  },
  {
   "cell_type": "code",
   "execution_count": null,
   "metadata": {},
   "outputs": [],
   "source": [
    "exp_condition_df = pd.read_csv('../experiments/experiment3/experiment3_tasks_collection_essentialism.csv')\n",
    "exp_condition_df = exp_condition_df.fillna(\"\")\n",
    "exp_condition_df\n"
   ]
  },
  {
   "cell_type": "code",
   "execution_count": 123,
   "metadata": {},
   "outputs": [],
   "source": [
    "def bloom_infer(prompt, seed=2022):\n",
    "    params = {\n",
    "        \"max_new_tokens\": 5,\n",
    "        \"top_k\": None,\n",
    "        \"top_p\": 0.9,\n",
    "        \"temperature\": 0.7,\n",
    "        \"do_sample\": True,\n",
    "        \"seed\": seed,\n",
    "        \"early_stopping\": False,\n",
    "        \"no_repeat_ngram_size\": None,\n",
    "        \"num_beams\": None,\n",
    "        \"eos_token_id\": None,\n",
    "        \"length_penalty\": 1.0,\n",
    "    }\n",
    "    \n",
    "\n",
    "    response = inference(prompt, params=params)\n",
    "\n",
    "    return response"
   ]
  },
  {
   "cell_type": "code",
   "execution_count": null,
   "metadata": {},
   "outputs": [],
   "source": [
    "\n",
    "bloom_response_df = pd.DataFrame(columns=exp_condition_df.columns)\n",
    "\n",
    "for exp_condition in range(...,...): #range(2): #range[1] means the second row of the csv file, can change to range[2] to get the third row of the csv file. We will want to start with [1] since we ran the first row already.\n",
    "    for rep_id in range(...): \n",
    "      exp_row = exp_condition_df.loc[[exp_condition]]\n",
    "      exp_row[\"rep_id\"] = rep_id + 1\n",
    "\n",
    "      prompt = \"\"\n",
    "      for scenario_id in range(1, 3): #range(1, 3):  # We have two scenarios.\n",
    "          scenario_column_name = f\"scenario_{scenario_id}\"  # f\"scenario_{scenario_id}\" is scenario column name\n",
    "   \n",
    "   \n",
    "          prompt = \"\"\n",
    "          prompt += \"\\n\\nQuestion: \" + exp_condition_df[scenario_column_name][exp_condition].strip() + \" \" + exp_condition_df[\"question\"][exp_condition] + \"\\nAnswer:\" + \" I think it is \"\n",
    "\n",
    "          print(prompt, end=\"\")\n",
    "          response = bloom_infer(prompt, seed=rep_id)\n",
    "          answer = response[0][\"generated_text\"][len(prompt):].strip()\n",
    "          print(answer)\n",
    "          print(\"-------------------------------------------------------------------\\n\")\n",
    "\n",
    "\n",
    "          bloom_response_column_name = f\"bloom_response_scenario_{scenario_id}\" \n",
    "          exp_row[bloom_response_column_name] = answer\n",
    "\n",
    "          prompt += answer + \"\\n\"\n",
    "\n",
    "      bloom_response_df = pd.concat([bloom_response_df, exp_row], axis=0)\n",
    "\n",
    "bloom_response_df.rep_id = bloom_response_df.rep_id.astype(int)\n",
    "\n",
    "col = bloom_response_df.pop(\"rep_id\")\n",
    "bloom_response_df.insert(2, col.name, col)\n",
    "\n",
    "bloom_response_df\n",
    "\n"
   ]
  },
  {
   "cell_type": "code",
   "execution_count": null,
   "metadata": {},
   "outputs": [],
   "source": [
    "print(\"\\n==========================\\n\".join(bloom_response_df[\"bloom_response_question_1\"].tolist()))\n"
   ]
  },
  {
   "cell_type": "code",
   "execution_count": 126,
   "metadata": {},
   "outputs": [],
   "source": [
    "bloom_response_df.to_csv(\"../../data/experiment3/experiment3_bloom_unprocessed/....csv\", index=False)"
   ]
  }
 ],
 "metadata": {
  "kernelspec": {
   "display_name": "Python 3.9.12 ('base')",
   "language": "python",
   "name": "python3"
  },
  "language_info": {
   "codemirror_mode": {
    "name": "ipython",
    "version": 3
   },
   "file_extension": ".py",
   "mimetype": "text/x-python",
   "name": "python",
   "nbconvert_exporter": "python",
   "pygments_lexer": "ipython3",
   "version": "3.9.12"
  },
  "orig_nbformat": 4,
  "vscode": {
   "interpreter": {
    "hash": "40d3a090f54c6569ab1632332b64b2c03c39dcf918b08424e98f38b5ae0af88f"
   }
  }
 },
 "nbformat": 4,
 "nbformat_minor": 2
}
